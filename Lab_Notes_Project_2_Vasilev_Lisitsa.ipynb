{
 "cells": [
  {
   "cell_type": "markdown",
   "metadata": {
    "id": "HjdFAOdVxMGd"
   },
   "source": [
    "# “Exploring Hemagglutinin Mutations Throughout Influenza Infection”\n",
    "\n",
    "Project #2\n",
    "\n",
    "*Lab Journal by Artem Vasilev and Tatiana Lisitsa*\n",
    "\n",
    "---"
   ]
  },
  {
   "cell_type": "markdown",
   "metadata": {
    "id": "L6zhmfk4OtXM"
   },
   "source": [
    "## Preparing"
   ]
  },
  {
   "cell_type": "markdown",
   "metadata": {
    "id": "u7yPElPLPFx4"
   },
   "source": [
    "Update packages:\n",
    "\n",
    "`$ sudo apt update && sudo apt upgrade`"
   ]
  },
  {
   "cell_type": "markdown",
   "metadata": {
    "id": "SzBa4Of3PUHE"
   },
   "source": [
    "Make sure you have Java installed on your PC (it will be used in the next steps):\n",
    "\n",
    "`$ java --version`"
   ]
  },
  {
   "cell_type": "markdown",
   "metadata": {
    "id": "YF1zLHagPdO-"
   },
   "source": [
    "You may want to update it. For that check the latest version of Java (e.g. [here](https://www.codejava.net/java-se/java-se-versions-history)), and  update it from terminal:\n",
    "\n",
    "`$ sudo apt install openjdk-19-jdk`"
   ]
  },
  {
   "cell_type": "markdown",
   "metadata": {
    "id": "Bi8TtKdrPvzJ"
   },
   "source": [
    "Create virtual environment from `environment.yaml` file:\n",
    "\n",
    "`$ mamba env create -f environment.yaml -p /home/user/(anaconda3 or conda)/envs/env_name`\n",
    "\n",
    "Specify your username, an install path and name of environment"
   ]
  },
  {
   "cell_type": "markdown",
   "metadata": {
    "id": "mTdb9BwNP20I"
   },
   "source": [
    "Activate it:\n",
    "\n",
    "`$ mamba activate env_name`"
   ]
  },
  {
   "cell_type": "markdown",
   "metadata": {
    "id": "gJ_cC0l4d7cw"
   },
   "source": [
    "Download VarScan from [here](https://github.com/dkoboldt/varscan/blob/99ba0e047d7f048d533f411edb6bb1a189a4fa5d/VarScan.v2.4.6.jar):\n",
    "\n",
    "`$ mkdir tools/`\n",
    "\n",
    "`$ mv ~/Downloads/VarScan.v2.4.6.jar ./tools/`"
   ]
  },
  {
   "cell_type": "markdown",
   "metadata": {
    "id": "Shp4gKL6edX8"
   },
   "source": [
    "Download IGV:\n",
    "\n",
    "`$ cd tools/`\n",
    "\n",
    "`$ wget https://data.broadinstitute.org/igv/projects/downloads/2.16/IGV_Linux_2.16.2_WithJava.zip`\n",
    "\n",
    "`$ unzip IGV_Linux_2.16.2_WithJava.zip && rm IGV_Linux_2.16.2_WithJava.zip`\n",
    "\n",
    "`$ cd ..`"
   ]
  },
  {
   "cell_type": "markdown",
   "metadata": {
    "id": "r7kQPYgE10lA"
   },
   "source": [
    "---"
   ]
  },
  {
   "cell_type": "markdown",
   "metadata": {
    "id": "GIgDMCCHRh4c"
   },
   "source": [
    "## Analyzing data"
   ]
  },
  {
   "cell_type": "markdown",
   "metadata": {
    "id": "6w-jN7GKY-kq"
   },
   "source": [
    "Most of the steps are done using **SnakeMake**. For details see `Snakefile`'s contents"
   ]
  },
  {
   "cell_type": "markdown",
   "metadata": {
    "id": "2fiV-OOvSMtc"
   },
   "source": [
    "`$ snakemake --cores=all -p results/variants/reference.roommate_freq.vcf results/variants/reference.roommate_rare.vcf`"
   ]
  },
  {
   "cell_type": "markdown",
   "metadata": {
    "id": "FETc8oWESRZW"
   },
   "source": [
    "After running this command, your repository will have the following structure:"
   ]
  },
  {
   "cell_type": "markdown",
   "metadata": {
    "id": "A55vj9vcS3g8"
   },
   "source": [
    "```\n",
    "-/Practice_Project_2/\n",
    " |- raw_data\n",
    "       |- ref\n",
    "             |- reference.fasta\n",
    "             |- reference.fasta.amb\n",
    "             |- reference.fasta.ann\n",
    "             |- reference.fasta.bwt\n",
    "             |- reference.fasta.fai\n",
    "             |- reference.fasta.pac\n",
    "             |- reference.fasta.sa\n",
    "       |- roommate.fastq\n",
    "       |- roommate.fastq.gz\n",
    " |- results\n",
    "       |- bwa\n",
    "             |- reference.roommate.sorted.bam\n",
    "             |- reference.roommate.sorted.bam.bai\n",
    "       |- variants\n",
    "             |- reference.roommate.mpileup\n",
    "             |- reference.roommate_freq.vcf  # --min-var-freq 0.95\n",
    "             |- reference.roommate.mpileup\n",
    "             |- reference.roommate_rare.vcf  # --min-var-freq 0.001\n",
    "```"
   ]
  },
  {
   "cell_type": "markdown",
   "metadata": {
    "id": "ER_Ib-11U14w"
   },
   "source": [
    "On this step you download **reference sequence** for the influenza hemagglutinin gene from NCBI GenBank DataBase (ID: KF848938.1) and **sequencing results** (label: SRR1705851) from NCBI Sequence Read Archive (SRA)\n",
    "\n",
    "Also you 1) index the reference file, 2) align your roommate’s viral data to the reference sequence, 3) make an mpileup file for reference and 4) look for common and rare variants with VarScan"
   ]
  },
  {
   "cell_type": "markdown",
   "metadata": {
    "id": "Mp7zGmSJzFa0"
   },
   "source": [
    "It’s good to check that you selected correct reference: let's count percentage of reads that mapped:"
   ]
  },
  {
   "cell_type": "markdown",
   "metadata": {
    "id": "OCasgD4kzhx2"
   },
   "source": [
    "`$ samtools view -c results/bwa/reference.roommate.sorted.bam`  # 361349"
   ]
  },
  {
   "cell_type": "markdown",
   "metadata": {
    "id": "Pz-zrIqOzPq8"
   },
   "source": [
    "`$ samtools view -c -F 4 results/bwa/reference.roommate.sorted.bam`  # 361116"
   ]
  },
  {
   "cell_type": "markdown",
   "metadata": {
    "id": "tGwP5HhwzrHU"
   },
   "source": [
    "`-c`  # count reads that match a given filter\n",
    "\n",
    "`-F 4`  # filters reads, excluding unaligned reads"
   ]
  },
  {
   "cell_type": "markdown",
   "metadata": {
    "id": "-eECyp8u1-TO"
   },
   "source": [
    "---"
   ]
  },
  {
   "cell_type": "markdown",
   "metadata": {
    "id": "iQavNt-zWeN5"
   },
   "source": [
    "Inspect data quality using **FastQC**:\n",
    "\n",
    "`$ mkdir results/fastqc`\n",
    "\n",
    "`$ fastqc -o ./results/fastqc/ --noextract ./raw_data/roommate.fastq.gz`\n",
    "\n",
    "Given the quality of the bases and the lack of adaptor sequences, we assume that the data have been **pre-processed**."
   ]
  },
  {
   "cell_type": "markdown",
   "metadata": {
    "id": "7bTC9on51_12"
   },
   "source": [
    "---"
   ]
  },
  {
   "cell_type": "markdown",
   "metadata": {
    "id": "QipaZ0dWYnbX"
   },
   "source": [
    "Then you have to pull out the variants in a convenient format using **awk**:"
   ]
  },
  {
   "cell_type": "markdown",
   "metadata": {
    "id": "FD37HTfSYv4H"
   },
   "source": [
    "`$ snakemake --cores=all -p results/variants/reference.roommate_freq_parsed.txt results/variants/reference.roommate_rare_parsed.txt`"
   ]
  },
  {
   "cell_type": "markdown",
   "metadata": {
    "id": "NM5bzLlyZWDc"
   },
   "source": [
    "```\n",
    "-/Practice_Project_2/\n",
    " |- raw_data\n",
    "       ...\n",
    " |- results\n",
    "       |- bwa\n",
    "             ...\n",
    "       |- variants\n",
    "             ...\n",
    "             |- reference.roommate_freq_parsed.txt\n",
    "             |- reference.roommate_rare_parsed.txt\n",
    "```"
   ]
  },
  {
   "cell_type": "markdown",
   "metadata": {
    "id": "0CaTdox8ZmGm"
   },
   "source": [
    "You will get 2 parsed files with found SNPs"
   ]
  },
  {
   "cell_type": "markdown",
   "metadata": {
    "id": "JXxAiiXK2CYL"
   },
   "source": [
    "---"
   ]
  },
  {
   "cell_type": "markdown",
   "metadata": {
    "id": "5ZX191b11LxA"
   },
   "source": [
    "After that you need to inspect and align the **control sample sequencing data**, that consist of **three controls** (from sequencing of isogenic reference samples)"
   ]
  },
  {
   "cell_type": "markdown",
   "metadata": {
    "id": "tBjs8O5c2FBw"
   },
   "source": [
    "Download them:\n",
    "\n",
    "`$ snakemake --cores=all -p raw_data/control1.fastq raw_data/control2.fastq raw_data/control3.fastq`"
   ]
  },
  {
   "cell_type": "markdown",
   "metadata": {
    "id": "wn-NMnB_2O1G"
   },
   "source": [
    "And do the same steps as with reference for all controls with a minimum variant frequency of 0.001 (0.1%):\n",
    "\n",
    "`$ snakemake --cores=all -p results/variants/reference.control1_rare.vcf`\n",
    "\n",
    "`$ snakemake --cores=all -p results/variants/reference.control1_rare_parsed.txt`\n",
    "\n",
    "`$ snakemake --cores=all -p results/variants/reference.control2_rare.vcf`\n",
    "\n",
    "`$ snakemake --cores=all -p results/variants/reference.control2_rare_parsed.txt`\n",
    "\n",
    "`$ snakemake --cores=all -p results/variants/reference.control3_rare.vcf`\n",
    "\n",
    "`$ snakemake --cores=all -p results/variants/reference.control3_rare_parsed.txt`"
   ]
  },
  {
   "cell_type": "markdown",
   "metadata": {
    "id": "AuJYmMli3TWQ"
   },
   "source": [
    "```\n",
    "-/Practice_Project_2/\n",
    " |- raw_data\n",
    "       ...\n",
    "       |- control1.fastq\n",
    "       |- control1.fastq.gz\n",
    "       |- control2.fastq\n",
    "       |- control2.fastq.gz\n",
    "       |- control3.fastq\n",
    "       |- control3.fastq.gz\n",
    " |- results\n",
    "       |- bwa\n",
    "             ...\n",
    "             |- reference.control1.sorted.bam\n",
    "             |- reference.control1.sorted.bam.bai\n",
    "             |- reference.control2.sorted.bam\n",
    "             |- reference.control2.sorted.bam.bai\n",
    "             |- reference.control3.sorted.bam\n",
    "             |- reference.control3.sorted.bam.bai\n",
    "       |- variants\n",
    "             ...\n",
    "             |- reference.control1.mpileup\n",
    "             |- reference.control1_rare.vcf\n",
    "             |- reference.control1_rare_parsed.txt\n",
    "             |- reference.control2.mpileup\n",
    "             |- reference.control2_rare.vcf\n",
    "             |- reference.control2_rare_parsed.txt\n",
    "             |- reference.control3.mpileup\n",
    "             |- reference.control3_rare.vcf\n",
    "             |- reference.control3_rare_parsed.txt\n",
    "```"
   ]
  },
  {
   "cell_type": "markdown",
   "metadata": {
    "id": "w7aRs2OS57wm"
   },
   "source": [
    "Compare the control results to your roommate’s results"
   ]
  },
  {
   "cell_type": "markdown",
   "metadata": {
    "id": "9oDqzLef1iYC"
   },
   "source": [
    "That's what we got: [MAF of variants in sample and controls](https://github.com/ArtemVaska/BI_Practice_Project_2/blob/main/MAF%20of%20variants%20in%20sample%20and%20controls.pdf)"
   ]
  },
  {
   "cell_type": "markdown",
   "metadata": {},
   "source": [
    "---"
   ]
  },
  {
   "cell_type": "markdown",
   "metadata": {},
   "source": [
    "Analyze found mutations via **IGV**:\n",
    "\n",
    "`$ cd tools/IGV_Linux_2.16.2/`\n",
    "\n",
    "`$ ./igv.sh`"
   ]
  },
  {
   "cell_type": "markdown",
   "metadata": {},
   "source": [
    "- \"Genomes\" > \"Load Genome from File\" >\n",
    "  - raw_data/ref/reference.fasta\n",
    "- \"File\" > \"Load from File\" >\n",
    "  - results/variants/reference.roommate_rare.vcf"
   ]
  }
 ],
 "metadata": {
  "colab": {
   "provenance": [],
   "toc_visible": true
  },
  "kernelspec": {
   "display_name": "Python 3 (ipykernel)",
   "language": "python",
   "name": "python3"
  },
  "language_info": {
   "codemirror_mode": {
    "name": "ipython",
    "version": 3
   },
   "file_extension": ".py",
   "mimetype": "text/x-python",
   "name": "python",
   "nbconvert_exporter": "python",
   "pygments_lexer": "ipython3",
   "version": "3.10.12"
  }
 },
 "nbformat": 4,
 "nbformat_minor": 4
}
