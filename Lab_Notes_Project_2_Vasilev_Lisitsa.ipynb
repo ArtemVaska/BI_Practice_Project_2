{
  "nbformat": 4,
  "nbformat_minor": 0,
  "metadata": {
    "colab": {
      "provenance": [],
      "toc_visible": true
    },
    "kernelspec": {
      "name": "python3",
      "display_name": "Python 3"
    },
    "language_info": {
      "name": "python"
    }
  },
  "cells": [
    {
      "cell_type": "markdown",
      "source": [
        "# “Exploring Hemagglutinin Mutations Throughout Influenza Infection”\n",
        "\n",
        "Project #2\n",
        "\n",
        "*Lab Journal by Artem Vasilev and Tatiana Lisitsa*\n",
        "\n",
        "---"
      ],
      "metadata": {
        "id": "HjdFAOdVxMGd"
      }
    },
    {
      "cell_type": "markdown",
      "source": [
        "## Preparing"
      ],
      "metadata": {
        "id": "L6zhmfk4OtXM"
      }
    },
    {
      "cell_type": "markdown",
      "source": [
        "Update packages:"
      ],
      "metadata": {
        "id": "u7yPElPLPFx4"
      }
    },
    {
      "cell_type": "code",
      "source": [
        "! sudo apt update && sudo apt upgrade"
      ],
      "metadata": {
        "id": "uhUecEM0OrJD"
      },
      "execution_count": null,
      "outputs": []
    },
    {
      "cell_type": "markdown",
      "source": [
        "Make sure you have Java installed on your PC (it will be used in the next steps):"
      ],
      "metadata": {
        "id": "SzBa4Of3PUHE"
      }
    },
    {
      "cell_type": "code",
      "source": [
        "! java --version"
      ],
      "metadata": {
        "id": "yjV5hx8LPVeO"
      },
      "execution_count": null,
      "outputs": []
    },
    {
      "cell_type": "markdown",
      "source": [
        "You may want to update it. For that check the latest version of Java (e.g. [here](https://www.codejava.net/java-se/java-se-versions-history)), and  update it from terminal:"
      ],
      "metadata": {
        "id": "YF1zLHagPdO-"
      }
    },
    {
      "cell_type": "code",
      "source": [
        "! sudo apt install openjdk-19-jdk"
      ],
      "metadata": {
        "id": "I_J29gNTPs3A"
      },
      "execution_count": null,
      "outputs": []
    },
    {
      "cell_type": "markdown",
      "source": [
        "Create virtual environment from `environment.yaml` file, which you can find on the [GitHub](https://github.com/ArtemVaska/BI_Practice_Project_2) page:"
      ],
      "metadata": {
        "id": "Bi8TtKdrPvzJ"
      }
    },
    {
      "cell_type": "code",
      "source": [
        "# ! mamba env create -f environment.yaml -p /home/user/(anaconda3 or conda)/envs/env_name\n",
        "\n",
        "# uncomment the top line and specify an install path with your username"
      ],
      "metadata": {
        "id": "34S8QdR20QCx"
      },
      "execution_count": null,
      "outputs": []
    },
    {
      "cell_type": "markdown",
      "source": [
        "Activate it and go to the created repo:"
      ],
      "metadata": {
        "id": "mTdb9BwNP20I"
      }
    },
    {
      "cell_type": "code",
      "source": [
        "! mamba activate Practice_Project_2"
      ],
      "metadata": {
        "id": "DfUr1Qmyul12"
      },
      "execution_count": null,
      "outputs": []
    },
    {
      "cell_type": "code",
      "source": [
        "! cd ~/conda/envs/Practice_Project_2  # this path can be different from yours!"
      ],
      "metadata": {
        "id": "CjhIHyo5P5TI"
      },
      "execution_count": null,
      "outputs": []
    },
    {
      "cell_type": "markdown",
      "source": [
        "Download VarScan from [here](https://github.com/dkoboldt/varscan/blob/99ba0e047d7f048d533f411edb6bb1a189a4fa5d/VarScan.v2.4.6.jar):"
      ],
      "metadata": {
        "id": "gJ_cC0l4d7cw"
      }
    },
    {
      "cell_type": "code",
      "source": [
        "! mkdir tools/"
      ],
      "metadata": {
        "id": "cqpEwZUbupWG"
      },
      "execution_count": null,
      "outputs": []
    },
    {
      "cell_type": "code",
      "source": [
        "! mv ~/Downloads/VarScan.v2.4.6.jar ./tools/"
      ],
      "metadata": {
        "id": "seHfmTT0eRgX"
      },
      "execution_count": null,
      "outputs": []
    },
    {
      "cell_type": "markdown",
      "source": [
        "Download IGV:"
      ],
      "metadata": {
        "id": "Shp4gKL6edX8"
      }
    },
    {
      "cell_type": "code",
      "source": [
        "! cd tools/"
      ],
      "metadata": {
        "id": "52_ykz64urMI"
      },
      "execution_count": null,
      "outputs": []
    },
    {
      "cell_type": "code",
      "source": [
        "! wget https://data.broadinstitute.org/igv/projects/downloads/2.16/IGV_Linux_2.16.2_WithJava.zip"
      ],
      "metadata": {
        "id": "gw4NDhWourGD"
      },
      "execution_count": null,
      "outputs": []
    },
    {
      "cell_type": "code",
      "source": [
        "! unzip IGV_Linux_2.16.2_WithJava.zip && rm IGV_Linux_2.16.2_WithJava.zip"
      ],
      "metadata": {
        "id": "87f1cStauq7r"
      },
      "execution_count": null,
      "outputs": []
    },
    {
      "cell_type": "code",
      "source": [
        "! cd .."
      ],
      "metadata": {
        "id": "Bw9FLmzZegfC"
      },
      "execution_count": null,
      "outputs": []
    },
    {
      "cell_type": "markdown",
      "source": [
        "Download `Snakefile` from [GitHub](https://github.com/ArtemVaska/BI_Practice_Project_2) and move to your created folder:"
      ],
      "metadata": {
        "id": "qBhzZBGfRvwt"
      }
    },
    {
      "cell_type": "code",
      "source": [
        "! mv ~/Downloads/Snakefile ~/conda/envs/Practice_Project_2"
      ],
      "metadata": {
        "id": "n-ZnklwzR_4K"
      },
      "execution_count": null,
      "outputs": []
    },
    {
      "cell_type": "markdown",
      "source": [
        "---"
      ],
      "metadata": {
        "id": "r7kQPYgE10lA"
      }
    },
    {
      "cell_type": "markdown",
      "source": [
        "## Analyzing data"
      ],
      "metadata": {
        "id": "GIgDMCCHRh4c"
      }
    },
    {
      "cell_type": "markdown",
      "source": [
        "Most of the steps are done using `SnakeMake`. For details see Snakefile's contents"
      ],
      "metadata": {
        "id": "6w-jN7GKY-kq"
      }
    },
    {
      "cell_type": "code",
      "source": [
        "! snakemake --cores=all -p results/variants/reference.roommate_freq.vcf results/variants/reference.roommate_rare.vcf"
      ],
      "metadata": {
        "id": "2fiV-OOvSMtc"
      },
      "execution_count": null,
      "outputs": []
    },
    {
      "cell_type": "markdown",
      "source": [
        "After running this command, your repository will have the following structure:"
      ],
      "metadata": {
        "id": "FETc8oWESRZW"
      }
    },
    {
      "cell_type": "markdown",
      "source": [
        "```\n",
        "-/Practice_Project_2/\n",
        " |- raw_data\n",
        "       |- ref\n",
        "             |- reference.fasta\n",
        "             |- reference.fasta.amb\n",
        "             |- reference.fasta.ann\n",
        "             |- reference.fasta.bwt\n",
        "             |- reference.fasta.fai\n",
        "             |- reference.fasta.pac\n",
        "             |- reference.fasta.sa\n",
        "       |- roommate.fastq\n",
        "       |- roommate.fastq.gz\n",
        " |- results\n",
        "       |- bwa\n",
        "             |- reference.roommate.sorted.bam\n",
        "             |- reference.roommate.sorted.bam.bai\n",
        "       |- variants\n",
        "             |- reference.roommate.mpileup\n",
        "             |- reference.roommate_freq.vcf  # --min-var-freq 0.95\n",
        "             |- reference.roommate.mpileup\n",
        "             |- reference.roommate_rare.vcf  # --min-var-freq 0.001\n",
        "```"
      ],
      "metadata": {
        "id": "A55vj9vcS3g8"
      }
    },
    {
      "cell_type": "markdown",
      "source": [
        "On this step you download **reference sequence** for the influenza hemagglutinin gene from NCBI GenBank DataBase (ID: KF848938.1) and **sequencing results** (label: SRR1705851) from NCBI Sequence Read Archive (SRA)\n",
        "\n",
        "Also you 1) index the reference file, 2) align your roommate’s viral data to the reference sequence, 3) make an mpileup file for reference and 4) look for common and rare variants with VarScan"
      ],
      "metadata": {
        "id": "ER_Ib-11U14w"
      }
    },
    {
      "cell_type": "markdown",
      "source": [
        "It’s good to check that you selected correct reference: let's count percentage of reads that mapped:"
      ],
      "metadata": {
        "id": "Mp7zGmSJzFa0"
      }
    },
    {
      "cell_type": "code",
      "source": [
        "! samtools view -c results/bwa/reference.roommate.sorted.bam  # 361349"
      ],
      "metadata": {
        "id": "OCasgD4kzhx2"
      },
      "execution_count": null,
      "outputs": []
    },
    {
      "cell_type": "code",
      "source": [
        "! samtools view -c -F 4 results/bwa/reference.roommate.sorted.bam  # 361116"
      ],
      "metadata": {
        "id": "Pz-zrIqOzPq8"
      },
      "execution_count": null,
      "outputs": []
    },
    {
      "cell_type": "markdown",
      "source": [
        "`-c`  # count reads that match a given filter\n",
        "\n",
        "`-F 4`  # filters reads, excluding unaligned reads"
      ],
      "metadata": {
        "id": "tGwP5HhwzrHU"
      }
    },
    {
      "cell_type": "markdown",
      "source": [
        "---"
      ],
      "metadata": {
        "id": "-eECyp8u1-TO"
      }
    },
    {
      "cell_type": "markdown",
      "source": [
        "Inspect data quality using FastQC:"
      ],
      "metadata": {
        "id": "iQavNt-zWeN5"
      }
    },
    {
      "cell_type": "code",
      "source": [
        "! mkdir results/fastqc"
      ],
      "metadata": {
        "id": "mJyfJk87l3U9"
      },
      "execution_count": null,
      "outputs": []
    },
    {
      "cell_type": "code",
      "source": [
        "! fastqc -o ./results/fastqc/ --noextract ./raw_data/roommate.fastq.gz"
      ],
      "metadata": {
        "id": "DrDxI0V1WkBP"
      },
      "execution_count": null,
      "outputs": []
    },
    {
      "cell_type": "markdown",
      "source": [
        "Given the quality of the bases and the lack of adaptor sequences, we assume that the data have been preprocessed."
      ],
      "metadata": {
        "id": "hAB-iQ10WkkR"
      }
    },
    {
      "cell_type": "markdown",
      "source": [
        "---"
      ],
      "metadata": {
        "id": "7bTC9on51_12"
      }
    },
    {
      "cell_type": "markdown",
      "source": [
        "Then you have to pull out the variants in a convenient format using `awk`:"
      ],
      "metadata": {
        "id": "QipaZ0dWYnbX"
      }
    },
    {
      "cell_type": "code",
      "source": [
        "! snakemake --cores=all -p results/variants/reference.roommate_freq_parsed.txt results/variants/reference.roommate_rare_parsed.txt"
      ],
      "metadata": {
        "id": "FD37HTfSYv4H"
      },
      "execution_count": null,
      "outputs": []
    },
    {
      "cell_type": "markdown",
      "source": [
        "```\n",
        "-/Practice_Project_2/\n",
        " |- raw_data\n",
        "       ...\n",
        " |- results\n",
        "       |- bwa\n",
        "             ...\n",
        "       |- variants\n",
        "             ...\n",
        "             |- reference.roommate_freq_parsed.txt\n",
        "             |- reference.roommate_rare_parsed.txt\n",
        "```"
      ],
      "metadata": {
        "id": "NM5bzLlyZWDc"
      }
    },
    {
      "cell_type": "markdown",
      "source": [
        "You will get 2 parsed files with found SNPs"
      ],
      "metadata": {
        "id": "0CaTdox8ZmGm"
      }
    },
    {
      "cell_type": "markdown",
      "source": [
        "---"
      ],
      "metadata": {
        "id": "JXxAiiXK2CYL"
      }
    },
    {
      "cell_type": "markdown",
      "source": [
        "After that you need to inspect and align the **control sample sequencing data**, that consist of **three controls** (from sequencing of isogenic reference samples)"
      ],
      "metadata": {
        "id": "5ZX191b11LxA"
      }
    },
    {
      "cell_type": "markdown",
      "source": [
        "Download them:"
      ],
      "metadata": {
        "id": "tBjs8O5c2FBw"
      }
    },
    {
      "cell_type": "code",
      "source": [
        "! snakemake --cores=all -p raw_data/control1.fastq raw_data/control2.fastq raw_data/control3.fastq"
      ],
      "metadata": {
        "id": "fxYQ0vwH2HAI"
      },
      "execution_count": null,
      "outputs": []
    },
    {
      "cell_type": "markdown",
      "source": [
        "And do the same steps as with reference for all controls with a minimum variant frequency of 0.001 (0.1%):"
      ],
      "metadata": {
        "id": "wn-NMnB_2O1G"
      }
    },
    {
      "cell_type": "code",
      "source": [
        "! snakemake --cores=all -p results/variants/reference.control1_rare.vcf"
      ],
      "metadata": {
        "id": "5mxIhf5Z2aAV"
      },
      "execution_count": null,
      "outputs": []
    },
    {
      "cell_type": "code",
      "source": [
        "! snakemake --cores=all -p results/variants/reference.control1_rare_parsed.txt"
      ],
      "metadata": {
        "id": "-SVWI4q02Z8a"
      },
      "execution_count": null,
      "outputs": []
    },
    {
      "cell_type": "code",
      "source": [
        "! snakemake --cores=all -p results/variants/reference.control2_rare.vcf"
      ],
      "metadata": {
        "id": "kD4G5y8U2Z3n"
      },
      "execution_count": null,
      "outputs": []
    },
    {
      "cell_type": "code",
      "source": [
        "! snakemake --cores=all -p results/variants/reference.control2_rare_parsed.txt"
      ],
      "metadata": {
        "id": "PujSlIUt2Zx9"
      },
      "execution_count": null,
      "outputs": []
    },
    {
      "cell_type": "code",
      "source": [
        "! snakemake --cores=all -p results/variants/reference.control3_rare.vcf"
      ],
      "metadata": {
        "id": "keQtvFnt2Zon"
      },
      "execution_count": null,
      "outputs": []
    },
    {
      "cell_type": "code",
      "source": [
        "! snakemake --cores=all -p results/variants/reference.control3_rare_parsed.txt"
      ],
      "metadata": {
        "id": "MWw9SEMZ2ZWc"
      },
      "execution_count": null,
      "outputs": []
    },
    {
      "cell_type": "markdown",
      "source": [
        "```\n",
        "-/Practice_Project_2/\n",
        " |- raw_data\n",
        "       ...\n",
        "       |- control1.fastq\n",
        "       |- control1.fastq.gz\n",
        "       |- control2.fastq\n",
        "       |- control2.fastq.gz\n",
        "       |- control3.fastq\n",
        "       |- control3.fastq.gz\n",
        " |- results\n",
        "       |- bwa\n",
        "             ...\n",
        "             |- reference.control1.sorted.bam\n",
        "             |- reference.control1.sorted.bam.bai\n",
        "             |- reference.control2.sorted.bam\n",
        "             |- reference.control2.sorted.bam.bai\n",
        "             |- reference.control3.sorted.bam\n",
        "             |- reference.control3.sorted.bam.bai\n",
        "       |- variants\n",
        "             ...\n",
        "             |- reference.control1.mpileup\n",
        "             |- reference.control1_rare.vcf\n",
        "             |- reference.control1_rare_parsed.txt\n",
        "             |- reference.control2.mpileup\n",
        "             |- reference.control2_rare.vcf\n",
        "             |- reference.control2_rare_parsed.txt\n",
        "             |- reference.control3.mpileup\n",
        "             |- reference.control3_rare.vcf\n",
        "             |- reference.control3_rare_parsed.txt\n",
        "```"
      ],
      "metadata": {
        "id": "AuJYmMli3TWQ"
      }
    },
    {
      "cell_type": "markdown",
      "source": [
        "Compare the control results to your roommate’s results"
      ],
      "metadata": {
        "id": "w7aRs2OS57wm"
      }
    },
    {
      "cell_type": "markdown",
      "source": [
        "That's what we got: [MAF of variants in sample and controls](https://github.com/ArtemVaska/BI_Practice_Project_2/blob/main/MAF%20of%20variants%20in%20sample%20and%20controls.pdf)"
      ],
      "metadata": {
        "id": "9oDqzLef1iYC"
      }
    }
  ]
}